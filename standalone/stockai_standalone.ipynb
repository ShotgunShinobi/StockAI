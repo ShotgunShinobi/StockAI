{
  "nbformat": 4,
  "nbformat_minor": 0,
  "metadata": {
    "colab": {
      "provenance": []
    },
    "kernelspec": {
      "name": "python3",
      "display_name": "Python 3"
    },
    "language_info": {
      "name": "python"
    }
  },
  "cells": [
    {
      "cell_type": "code",
      "execution_count": 2,
      "metadata": {
        "id": "GJ9bUjIGfI3a",
        "colab": {
          "base_uri": "https://localhost:8080/"
        },
        "outputId": "87e3c370-a25c-4132-e3ad-0f05d102ae3d"
      },
      "outputs": [
        {
          "output_type": "stream",
          "name": "stdout",
          "text": [
            "\u001b[?25l     \u001b[90m━━━━━━━━━━━━━━━━━━━━━━━━━━━━━━━━━━━━━━━━\u001b[0m \u001b[32m0.0/816.1 kB\u001b[0m \u001b[31m?\u001b[0m eta \u001b[36m-:--:--\u001b[0m\r\u001b[2K     \u001b[91m━━━━━━━━━━━━━━\u001b[0m\u001b[91m╸\u001b[0m\u001b[90m━━━━━━━━━━━━━━━━━━━━━━━━━\u001b[0m \u001b[32m297.0/816.1 kB\u001b[0m \u001b[31m8.8 MB/s\u001b[0m eta \u001b[36m0:00:01\u001b[0m\r\u001b[2K     \u001b[91m━━━━━━━━━━━━━━━━━━━━━━━━━━━━━━━━━━━━━━━\u001b[0m\u001b[91m╸\u001b[0m \u001b[32m809.0/816.1 kB\u001b[0m \u001b[31m11.6 MB/s\u001b[0m eta \u001b[36m0:00:01\u001b[0m\r\u001b[2K     \u001b[90m━━━━━━━━━━━━━━━━━━━━━━━━━━━━━━━━━━━━━━━━\u001b[0m \u001b[32m816.1/816.1 kB\u001b[0m \u001b[31m9.6 MB/s\u001b[0m eta \u001b[36m0:00:00\u001b[0m\n",
            "\u001b[2K     \u001b[90m━━━━━━━━━━━━━━━━━━━━━━━━━━━━━━━━━━━━━━━━\u001b[0m \u001b[32m226.7/226.7 kB\u001b[0m \u001b[31m9.7 MB/s\u001b[0m eta \u001b[36m0:00:00\u001b[0m\n",
            "\u001b[2K     \u001b[90m━━━━━━━━━━━━━━━━━━━━━━━━━━━━━━━━━━━━━━━━\u001b[0m \u001b[32m1.8/1.8 MB\u001b[0m \u001b[31m16.6 MB/s\u001b[0m eta \u001b[36m0:00:00\u001b[0m\n",
            "\u001b[?25h  Preparing metadata (setup.py) ... \u001b[?25l\u001b[?25hdone\n",
            "\u001b[2K     \u001b[90m━━━━━━━━━━━━━━━━━━━━━━━━━━━━━━━━━━━━━━━━\u001b[0m \u001b[32m10.0/10.0 MB\u001b[0m \u001b[31m34.2 MB/s\u001b[0m eta \u001b[36m0:00:00\u001b[0m\n",
            "\u001b[2K     \u001b[90m━━━━━━━━━━━━━━━━━━━━━━━━━━━━━━━━━━━━━━━━\u001b[0m \u001b[32m207.4/207.4 kB\u001b[0m \u001b[31m19.8 MB/s\u001b[0m eta \u001b[36m0:00:00\u001b[0m\n",
            "\u001b[2K     \u001b[90m━━━━━━━━━━━━━━━━━━━━━━━━━━━━━━━━━━━━━━━━\u001b[0m \u001b[32m171.6/171.6 kB\u001b[0m \u001b[31m17.7 MB/s\u001b[0m eta \u001b[36m0:00:00\u001b[0m\n",
            "\u001b[2K     \u001b[90m━━━━━━━━━━━━━━━━━━━━━━━━━━━━━━━━━━━━━━━━\u001b[0m \u001b[32m1.7/1.7 MB\u001b[0m \u001b[31m47.0 MB/s\u001b[0m eta \u001b[36m0:00:00\u001b[0m\n",
            "\u001b[2K     \u001b[90m━━━━━━━━━━━━━━━━━━━━━━━━━━━━━━━━━━━━━━━━\u001b[0m \u001b[32m241.3/241.3 kB\u001b[0m \u001b[31m25.4 MB/s\u001b[0m eta \u001b[36m0:00:00\u001b[0m\n",
            "\u001b[2K     \u001b[90m━━━━━━━━━━━━━━━━━━━━━━━━━━━━━━━━━━━━━━━━\u001b[0m \u001b[32m61.0/61.0 kB\u001b[0m \u001b[31m7.0 MB/s\u001b[0m eta \u001b[36m0:00:00\u001b[0m\n",
            "\u001b[2K     \u001b[90m━━━━━━━━━━━━━━━━━━━━━━━━━━━━━━━━━━━━━━━━\u001b[0m \u001b[32m75.9/75.9 kB\u001b[0m \u001b[31m8.5 MB/s\u001b[0m eta \u001b[36m0:00:00\u001b[0m\n",
            "\u001b[2K     \u001b[90m━━━━━━━━━━━━━━━━━━━━━━━━━━━━━━━━━━━━━━━━\u001b[0m \u001b[32m460.2/460.2 kB\u001b[0m \u001b[31m43.7 MB/s\u001b[0m eta \u001b[36m0:00:00\u001b[0m\n",
            "\u001b[2K     \u001b[90m━━━━━━━━━━━━━━━━━━━━━━━━━━━━━━━━━━━━━━━━\u001b[0m \u001b[32m82.9/82.9 kB\u001b[0m \u001b[31m8.9 MB/s\u001b[0m eta \u001b[36m0:00:00\u001b[0m\n",
            "\u001b[2K     \u001b[90m━━━━━━━━━━━━━━━━━━━━━━━━━━━━━━━━━━━━━━━━\u001b[0m \u001b[32m49.4/49.4 kB\u001b[0m \u001b[31m4.6 MB/s\u001b[0m eta \u001b[36m0:00:00\u001b[0m\n",
            "\u001b[2K     \u001b[90m━━━━━━━━━━━━━━━━━━━━━━━━━━━━━━━━━━━━━━━━\u001b[0m \u001b[32m77.0/77.0 kB\u001b[0m \u001b[31m8.0 MB/s\u001b[0m eta \u001b[36m0:00:00\u001b[0m\n",
            "\u001b[2K     \u001b[90m━━━━━━━━━━━━━━━━━━━━━━━━━━━━━━━━━━━━━━━━\u001b[0m \u001b[32m58.3/58.3 kB\u001b[0m \u001b[31m6.1 MB/s\u001b[0m eta \u001b[36m0:00:00\u001b[0m\n",
            "\u001b[2K     \u001b[90m━━━━━━━━━━━━━━━━━━━━━━━━━━━━━━━━━━━━━━━━\u001b[0m \u001b[32m143.8/143.8 kB\u001b[0m \u001b[31m13.7 MB/s\u001b[0m eta \u001b[36m0:00:00\u001b[0m\n",
            "\u001b[2K     \u001b[90m━━━━━━━━━━━━━━━━━━━━━━━━━━━━━━━━━━━━━━━━\u001b[0m \u001b[32m106.8/106.8 kB\u001b[0m \u001b[31m10.6 MB/s\u001b[0m eta \u001b[36m0:00:00\u001b[0m\n",
            "\u001b[2K     \u001b[90m━━━━━━━━━━━━━━━━━━━━━━━━━━━━━━━━━━━━━━━━\u001b[0m \u001b[32m121.1/121.1 kB\u001b[0m \u001b[31m15.1 MB/s\u001b[0m eta \u001b[36m0:00:00\u001b[0m\n",
            "\u001b[2K     \u001b[90m━━━━━━━━━━━━━━━━━━━━━━━━━━━━━━━━━━━━━━━━\u001b[0m \u001b[32m120.9/120.9 kB\u001b[0m \u001b[31m16.0 MB/s\u001b[0m eta \u001b[36m0:00:00\u001b[0m\n",
            "\u001b[2K     \u001b[90m━━━━━━━━━━━━━━━━━━━━━━━━━━━━━━━━━━━━━━━━\u001b[0m \u001b[32m104.6/104.6 kB\u001b[0m \u001b[31m11.3 MB/s\u001b[0m eta \u001b[36m0:00:00\u001b[0m\n",
            "\u001b[2K     \u001b[90m━━━━━━━━━━━━━━━━━━━━━━━━━━━━━━━━━━━━━━━━\u001b[0m \u001b[32m123.8/123.8 kB\u001b[0m \u001b[31m14.5 MB/s\u001b[0m eta \u001b[36m0:00:00\u001b[0m\n",
            "\u001b[2K     \u001b[90m━━━━━━━━━━━━━━━━━━━━━━━━━━━━━━━━━━━━━━━━\u001b[0m \u001b[32m123.8/123.8 kB\u001b[0m \u001b[31m15.6 MB/s\u001b[0m eta \u001b[36m0:00:00\u001b[0m\n",
            "\u001b[2K     \u001b[90m━━━━━━━━━━━━━━━━━━━━━━━━━━━━━━━━━━━━━━━━\u001b[0m \u001b[32m123.9/123.9 kB\u001b[0m \u001b[31m14.0 MB/s\u001b[0m eta \u001b[36m0:00:00\u001b[0m\n",
            "\u001b[2K     \u001b[90m━━━━━━━━━━━━━━━━━━━━━━━━━━━━━━━━━━━━━━━━\u001b[0m \u001b[32m123.6/123.6 kB\u001b[0m \u001b[31m13.6 MB/s\u001b[0m eta \u001b[36m0:00:00\u001b[0m\n",
            "\u001b[2K     \u001b[90m━━━━━━━━━━━━━━━━━━━━━━━━━━━━━━━━━━━━━━━━\u001b[0m \u001b[32m123.2/123.2 kB\u001b[0m \u001b[31m12.7 MB/s\u001b[0m eta \u001b[36m0:00:00\u001b[0m\n",
            "\u001b[?25h  Building wheel for google-search-results (setup.py) ... \u001b[?25l\u001b[?25hdone\n",
            "\u001b[31mERROR: pip's dependency resolver does not currently take into account all the packages that are installed. This behaviour is the source of the following dependency conflicts.\n",
            "llmx 0.0.15a0 requires cohere, which is not installed.\u001b[0m\u001b[31m\n",
            "\u001b[0m"
          ]
        }
      ],
      "source": [
        "!pip -q install langchain openai tiktoken yfinance google-search-results selenium google-api-python-client pinecone-client google-cloud-storage langchain_experimental requests beautifulsoup4 requests-html langchainhub"
      ]
    },
    {
      "cell_type": "code",
      "source": [
        "from langchain.tools import BaseTool\n",
        "from typing import Optional, Type\n",
        "from langchain.agents import initialize_agent, Tool\n",
        "from langchain.agents import AgentType\n",
        "from langchain.agents import load_tools, initialize_agent, AgentExecutor\n",
        "from langchain_experimental.agents import create_pandas_dataframe_agent\n",
        "from langchain.llms import OpenAI\n",
        "from langchain.tools import Tool\n",
        "from langchain.prompts import ChatPromptTemplate, PromptTemplate, SystemMessagePromptTemplate, AIMessagePromptTemplate, HumanMessagePromptTemplate\n",
        "from langchain.output_parsers import StructuredOutputParser, ResponseSchema\n",
        "from langchain.chat_models import ChatOpenAI\n",
        "from langchain.memory import ConversationBufferMemory\n",
        "from langchain.chains import ConversationChain, LLMChain, create_extraction_chain\n",
        "from langchain.agents import load_tools, ZeroShotAgent\n",
        "from langchain.utilities import GoogleSearchAPIWrapper\n",
        "from langchain.text_splitter import RecursiveCharacterTextSplitter\n",
        "from langchain.docstore.document import Document\n",
        "from googleapiclient.discovery import build\n",
        "import matplotlib.pyplot as plt\n",
        "import requests\n",
        "import os\n",
        "import yfinance as yf\n",
        "import json\n",
        "import pandas as pd\n",
        "import re\n",
        "from langchain.chains.summarize import load_summarize_chain\n",
        "from langchain.prompts.chat import (\n",
        "    ChatPromptTemplate,\n",
        "    SystemMessagePromptTemplate,\n",
        "    HumanMessagePromptTemplate\n",
        ")\n",
        "from pydantic import BaseModel, Field\n",
        "from langchain import hub\n",
        "from langchain import hub\n",
        "from langchain_community.llms import OpenAI\n",
        "from langchain.agents import AgentExecutor, create_react_agent\n",
        "from datetime import datetime\n",
        "from datetime import date\n",
        "from datetime import timedelta"
      ],
      "metadata": {
        "id": "cAneLvqTgjw5",
        "colab": {
          "base_uri": "https://localhost:8080/"
        },
        "outputId": "90cf5ac8-5195-463c-ac58-9d2bba37d1de"
      },
      "execution_count": 3,
      "outputs": [
        {
          "output_type": "stream",
          "name": "stderr",
          "text": [
            "/usr/local/lib/python3.10/dist-packages/yfinance/base.py:48: FutureWarning: The default dtype for empty Series will be 'object' instead of 'float64' in a future version. Specify a dtype explicitly to silence this warning.\n",
            "  _empty_series = pd.Series()\n"
          ]
        }
      ]
    },
    {
      "cell_type": "code",
      "source": [
        "def get_stock_price(symbol):\n",
        "    ticker = yf.Ticker(symbol)\n",
        "    todays_data = ticker.history(period='1d')\n",
        "    return round(todays_data['Close'][0], 2)\n",
        "\n"
      ],
      "metadata": {
        "id": "vrL9CYtJgSrg"
      },
      "execution_count": 5,
      "outputs": []
    },
    {
      "cell_type": "code",
      "source": [
        "def calculate_trend_analysis(symbol):\n",
        "  today = date.today() - timedelta(days=6)\n",
        "  now = datetime.now()\n",
        "  today_date = now.strftime('%Y-%m-%d')\n",
        "  current_year = datetime.now().year\n",
        "  current_year_start_date = str(current_year) + \"-01-01\"\n",
        "  last_year = current_year - 1\n",
        "  year_before_last = last_year - 1\n",
        "  last_year_start_date = str(last_year) + \"-01-01\"\n",
        "  last_year_end_date = str(last_year) + \"-12-31\"\n",
        "  year_before_last_start_date = str(year_before_last) + \"-01-01\"\n",
        "  year_before_last_ending_date = str(year_before_last) + \"-12-31\"\n",
        "  historical_stock_data = yf.download(symbol, year_before_last_start_date, today_date)\n",
        "  historical_stock_data_df = pd.DataFrame(historical_stock_data)\n",
        "  historical_stock_data_df['lastDayOpen'] = historical_stock_data['Open'].shift(1)\n",
        "  historical_stock_data_df['lastDayHigh'] = historical_stock_data['High'].shift(1)\n",
        "  historical_stock_data_df['lastDayLow'] = historical_stock_data['Low'].shift(1)\n",
        "  historical_stock_data_df['lastDayClose'] = historical_stock_data['Close'].shift(1)\n",
        "  historical_stock_data_df['lastDayVolume'] = historical_stock_data['Volume'].shift(1)\n",
        "  historical_stock_data_df.reset_index(inplace = True)\n",
        "  today_date = now.strftime('%Y-%m-%d')\n",
        "  yesterday = today - timedelta(days=7)\n",
        "  yesterday_date = yesterday.strftime('%Y-%m-%d')\n",
        "  yesterday_data = historical_stock_data_df[historical_stock_data_df['Date'] == yesterday_date]\n",
        "\n",
        "  if not yesterday_data.empty:\n",
        "    yesterday_lastDayHigh = yesterday_data['lastDayHigh'].values[0]\n",
        "    yesterday_lastDayClose = yesterday_data['lastDayClose'].values[0]\n",
        "    yesterday_lastDayLow = yesterday_data['lastDayLow'].values[0]\n",
        "  df=historical_stock_data_df\n",
        "  df['Price Change'] = df['Close'] - df['lastDayClose']\n",
        "  df['Gain'] = df['Price Change'].apply(lambda x: x if x > 0 else 0)\n",
        "  df['Loss'] = df['Price Change'].apply(lambda x: -x if x < 0 else 0)\n",
        "  period = 14\n",
        "  df['Avg Gain'] = df['Gain'].rolling(window=period).mean()\n",
        "  df['Avg Loss'] = df['Loss'].rolling(window=period).mean()\n",
        "  df['RS'] = df['Avg Gain'] / df['Avg Loss']\n",
        "  df['RSI'] = 100 - (100 / (1 + df['RS']))\n",
        "  df.dropna(inplace=True)\n",
        "  df.drop(['Price Change', 'Gain', 'Loss', 'Avg Gain', 'Avg Loss', 'RS'], axis=1, inplace=True)\n",
        "  df1 = df[['Date', 'RSI']]\n",
        "  yesterday_RSIDF = df1[df1['Date'] == yesterday_date]\n",
        "  window_size = 20  # You can adjust the window size as needed\n",
        "  df['SMA'] = df['Close'].rolling(window=window_size).mean()\n",
        "\n",
        "# Calculate Exponential Moving Average (EMA)\n",
        "  alpha = 2 / (window_size + 1)  # You can adjust the smoothing factor (alpha) as needed\n",
        "  df['EMA'] = df['Close'].ewm(alpha=alpha, adjust=False).mean()\n",
        "\n",
        "# Calculate Weighted Moving Average (WMA)\n",
        "  weights = pd.Series(range(1, window_size + 1))  # You can adjust the weights as needed\n",
        "  df['WMA'] = df['Close'].rolling(window=window_size).apply(lambda prices: (prices * weights).sum() / weights.sum(), raw=True)\n",
        "  df1=df[['Date','Close','SMA','EMA','WMA']]\n",
        "  yesterday_MA = df1[df1['Date'] == yesterday_date]\n",
        "# Note: For the first window_size - 1 rows, NaN will be produced as there won't be enough data for the moving averages.\n",
        "# You may choose to drop or handle these NaN values as per your requirement.\n",
        "  mac = yesterday_MA['Close'].values[0]\n",
        "  mas = yesterday_MA['SMA'].values[0]\n",
        "  mae = yesterday_MA['EMA'].values[0]\n",
        "  maw = yesterday_MA['WMA'].values[0]\n",
        "  if (mac < mas):\n",
        "    ta1 = f\"Closing Value is less than SMA, It may indicate a downtrend. Closing Value : {mac} , SMA : {mas}. \"\n",
        "  else:\n",
        "    ta1 = f\"Closing Value is greater than SMA, It may indicate a uptrend. Closing Value : {mac} , SMA : {mas}. \"\n",
        "  if (mac < mas):\n",
        "    ta2 = f\"Closing Value is less than EMA, It may indicate a downtrend. Closing Value : {mac} , EMA : {mae}. \"\n",
        "  else:\n",
        "    ta2 = f\"Closing Value is greater than EMA, It may indicate a uptrend. Closing Value : {mac} , EMA : {mae}. \"\n",
        "  if (mac < mas):\n",
        "    ta3 = f\"Closing Value is less than WMA, It may indicate a downtrend. Closing Value : {mac} , WMA : {maw}. \"\n",
        "  else:\n",
        "    ta3 = f\"Closing Value is greater than WMA, It may indicate a uptrend. Closing Value : {mac} , WMA : {maw}. \"\n",
        "\n",
        "  x = ta1 + \"\\n\" + ta2 + \"\\n\" + ta3 + \"\\n\"\n",
        "  return x"
      ],
      "metadata": {
        "id": "ieQ55nlAJQTU"
      },
      "execution_count": 6,
      "outputs": []
    },
    {
      "cell_type": "code",
      "source": [
        "def rsi_calculation(symbol):\n",
        "  today = date.today() - timedelta(days=6)\n",
        "  now = datetime.now()\n",
        "  today_date = now.strftime('%Y-%m-%d')\n",
        "  current_year = datetime.now().year\n",
        "  current_year_start_date = str(current_year) + \"-01-01\"\n",
        "  last_year = current_year - 1\n",
        "  year_before_last = last_year - 1\n",
        "  last_year_start_date = str(last_year) + \"-01-01\"\n",
        "  last_year_end_date = str(last_year) + \"-12-31\"\n",
        "  year_before_last_start_date = str(year_before_last) + \"-01-01\"\n",
        "  year_before_last_ending_date = str(year_before_last) + \"-12-31\"\n",
        "  historical_stock_data = yf.download(symbol, year_before_last_start_date, today_date)\n",
        "  historical_stock_data_df = pd.DataFrame(historical_stock_data)\n",
        "  historical_stock_data_df['lastDayOpen'] = historical_stock_data['Open'].shift(1)\n",
        "  historical_stock_data_df['lastDayHigh'] = historical_stock_data['High'].shift(1)\n",
        "  historical_stock_data_df['lastDayLow'] = historical_stock_data['Low'].shift(1)\n",
        "  historical_stock_data_df['lastDayClose'] = historical_stock_data['Close'].shift(1)\n",
        "  historical_stock_data_df['lastDayVolume'] = historical_stock_data['Volume'].shift(1)\n",
        "  historical_stock_data_df.reset_index(inplace = True)\n",
        "  today_date = now.strftime('%Y-%m-%d')\n",
        "  yesterday = today - timedelta(days=7)\n",
        "  yesterday_date = yesterday.strftime('%Y-%m-%d')\n",
        "  yesterday_data = historical_stock_data_df[historical_stock_data_df['Date'] == yesterday_date]\n",
        "\n",
        "# Check if there are any rows for yesterday's date\n",
        "  if not yesterday_data.empty:\n",
        "    yesterday_lastDayHigh = yesterday_data['lastDayHigh'].values[0]\n",
        "    yesterday_lastDayClose = yesterday_data['lastDayClose'].values[0]\n",
        "    yesterday_lastDayLow = yesterday_data['lastDayLow'].values[0]\n",
        "  df=historical_stock_data_df\n",
        "  df['Price Change'] = df['Close'] - df['lastDayClose']\n",
        "  df['Gain'] = df['Price Change'].apply(lambda x: x if x > 0 else 0)\n",
        "  df['Loss'] = df['Price Change'].apply(lambda x: -x if x < 0 else 0)\n",
        "  period = 14\n",
        "  df['Avg Gain'] = df['Gain'].rolling(window=period).mean()\n",
        "  df['Avg Loss'] = df['Loss'].rolling(window=period).mean()\n",
        "  df['RS'] = df['Avg Gain'] / df['Avg Loss']\n",
        "  df['RSI'] = 100 - (100 / (1 + df['RS']))\n",
        "  df.dropna(inplace=True)\n",
        "  df.drop(['Price Change', 'Gain', 'Loss', 'Avg Gain', 'Avg Loss', 'RS'], axis=1, inplace=True)\n",
        "  df1 = df[['Date', 'RSI']]\n",
        "  yesterday_RSIDF = df1[df1['Date'] == yesterday_date]\n",
        "  yRSI = yesterday_RSIDF['RSI'].values[0]\n",
        "  if (yRSI>70):\n",
        "    rsi = f\"Security may be overbought and could potentially drop RSI : {yRSI}. \"\n",
        "  elif (yRSI>30 and yRSI<70):\n",
        "    rsi = f\"It falls in between the range security is neither significantly overbought nor oversold RSI : {yRSI}. \"\n",
        "  elif (yRSI <30):\n",
        "    rsi = f\"Security may be oversold and could potentially rise RSI : {yRSI}. \"\n",
        "  return rsi"
      ],
      "metadata": {
        "id": "GtJwGTn0KzNz"
      },
      "execution_count": 7,
      "outputs": []
    },
    {
      "cell_type": "code",
      "source": [
        "import numpy as np\n",
        "\n",
        "def probability(symbol):\n",
        "  def rsi_value(sentence):\n",
        "    pattern = r\"RSI\\s*:\\s*(\\d+\\.?\\d*)\"\n",
        "\n",
        "    match = re.search(pattern, sentence)\n",
        "    if match:\n",
        "        try:\n",
        "            # Convert matched string to float, handling potential decimal separator variations\n",
        "            yRSI = float(match.group(1).replace(\",\", \"\"))\n",
        "            return yRSI\n",
        "        except ValueError:\n",
        "            raise ValueError(\"Extracted yRSI value is not numeric\")\n",
        "    else:\n",
        "        return None\n",
        "\n",
        "  def ta_value(sentence):\n",
        "  # Regular expression pattern to match \"uptrend\" or \"downtrend\"\n",
        "    pattern = r\"(uptrend|downtrend)\"\n",
        "\n",
        "    # Extract sentiment\n",
        "    match = re.search(pattern, sentence, flags=re.IGNORECASE)\n",
        "    if match:\n",
        "        sentiment = match.group(1).lower()  # Convert to lowercase\n",
        "    else:\n",
        "        raise ValueError(\"Sentence must contain 'uptrend' or 'downtrend'\")\n",
        "    if sentiment == \"uptrend\":\n",
        "      ta_probability = 1.0\n",
        "    elif sentiment == \"downtrend\":\n",
        "      ta_probability = 0.0\n",
        "    else:\n",
        "      raise ValueError(\"Invalid TA value: {}\".format(sentence))\n",
        "    return ta_probability\n",
        "\n",
        "  def volatility_calc(symbol):\n",
        "    historical_data = yf.download(symbol, period=\"10d\")\n",
        "    if len(historical_data) < 2:\n",
        "        raise ValueError(\"Need at least 2 closing prices to calculate volatility.\")\n",
        "\n",
        "    # Calculate daily percentage change\n",
        "    daily_pct_change = historical_data['Close'].pct_change().dropna()\n",
        "\n",
        "    # Calculate daily standard deviation\n",
        "    daily_std = np.std(daily_pct_change)\n",
        "\n",
        "    # Calculate annualized standard deviation\n",
        "    annualized_std = daily_std * np.sqrt(252)\n",
        "\n",
        "    # Calculate weekly percentage change\n",
        "    weekly_price_change = ((historical_data[\"Close\"].iloc[-1] - historical_data[\"Close\"].iloc[0]) / historical_data[\"Close\"].iloc[0]) * 100\n",
        "\n",
        "    return annualized_std, weekly_price_change\n",
        "\n",
        "  normalized_rsi = rsi_value(rsi_calculation(symbol)) / 100\n",
        "\n",
        "  # Determine prob based on trend analysis\n",
        "  ta_probability = ta_value(calculate_trend_analysis(symbol))\n",
        "\n",
        "  # Determine prob based on  volitility & price change\n",
        "  annualized_std_vol, weekly_price_change = volatility_calc(symbol)\n",
        "\n",
        "  # Combine factors using a weighted average\n",
        "  weights = np.array([0.25, 0.25, 0.25, 0.25])  # Adjust weights as needed\n",
        "  factors = np.array([normalized_rsi, ta_probability, annualized_std_vol, weekly_price_change])\n",
        "  probability1 = np.dot(weights, factors)\n",
        "  prob = (probability1/1)*100
        "  prob1 = f"Probability of future earnings: {prob}. "
        "  return prob1
      ],
      "metadata": {
        "id": "SJaQjT-SHNPh"
      },
      "execution_count": 61,
      "outputs": []
    },
    {
      "cell_type": "code",
      "source": [
        "class StockPriceRSITrendAnalysisInput(BaseModel):\n",
        "    \"\"\"Input for Stock price check.\"\"\"\n",
        "\n",
        "    stockticker: str = Field(..., description=\"Ticker symbol for stock or index\")\n",
        "\n",
        "class StockChangePercentageCheckInput(BaseModel):\n",
        "    \"\"\"Input for Stock ticker check. for percentage check\"\"\"\n",
        "\n",
        "    stockticker: str = Field(..., description=\"Ticker symbol for stock or index\")\n",
        "    days_ago: int = Field(..., description=\"Int number of days to look back\")\n"
      ],
      "metadata": {
        "id": "aR2p1h8ahKu2"
      },
      "execution_count": 62,
      "outputs": []
    },
    {
      "cell_type": "code",
      "source": [
        "class CompanyStockPriceRSITrendAnalysisTool(BaseTool):\n",
        "    name = \"get_stock_ticker_price\"\n",
        "    description = \"Useful for when you need to find out the price of stock. You should input the stock ticker used on the yfinance API\"\n",
        "\n",
        "    def _run(self, stockticker: str):\n",
        "\n",
        "        def PriceResponse(stockticker):\n",
        "          #getting current price\n",
        "          return f\"Price is {get_stock_price(stockticker)}. \"\n",
        "          #getting past data\n",
        "        def TACalculation(stockticker):\n",
        "          return f\"{calculate_trend_analysis(stockticker)}.\"\n",
        "        def RSICalculation(stockticker):\n",
        "          return f\"{rsi_calculation(stockticker)}.\"\n",
        "\n",
        "        pr = PriceResponse(stockticker)\n",
        "        ta = TACalculation(stockticker)\n",
        "        rsi = RSICalculation(stockticker)\n",
        "\n",
        "        prob = probability(stockticker)\n",
        "        result = pr + \"\\n\" + ta + \"\\n\" + rsi+\"\\n\" + prob\n",
        "        return result\n",
        "\n",
        "\n",
        "    def _arun(self, stockticker: str):\n",
        "        raise NotImplementedError(\"This tool does not support async\")\n",
        "\n",
        "    args_schema: Optional[Type[BaseModel]] = StockPriceRSITrendAnalysisInput"
      ],
      "metadata": {
        "id": "HGlX75uZhob1"
      },
      "execution_count": 63,
      "outputs": []
    },
    {
      "cell_type": "code",
      "source": [
        "class PercentageChangeTool(BaseTool):\n",
        "    name = \"get_price_change_percent\"\n",
        "    description = \"Useful for when you need to find out the percentage change in a stock's value. You should input the stock ticker used on the yfinance API and also input the number of days to check the change over\"\n",
        "\n",
        "    def _run(self, stockticker: str, days_ago: int):\n",
        "        def get_price_change_percent(symbol, days_ago):\n",
        "          ticker = yf.Ticker(symbol)\n",
        "\n",
        "    # Get today's date\n",
        "          end_date = datetime.now()\n",
        "\n",
        "    # Get the date N days ago\n",
        "          start_date = end_date - timedelta(days=days_ago)\n",
        "\n",
        "    # Convert dates to string format that yfinance can accept\n",
        "          start_date = start_date.strftime('%Y-%m-%d')\n",
        "          end_date = end_date.strftime('%Y-%m-%d')\n",
        "\n",
        "    # Get the historical data\n",
        "          historical_data = ticker.history(start=start_date, end=end_date)\n",
        "\n",
        "    # Get the closing price N days ago and today's closing price\n",
        "          old_price = historical_data['Close'].iloc[0]\n",
        "          new_price = historical_data['Close'].iloc[-1]\n",
        "\n",
        "    # Calculate the percentage change\n",
        "          percent_change = ((new_price - old_price) / old_price) * 100\n",
        "\n",
        "          return round(percent_change, 2)\n",
        "        price_change_response = get_price_change_percent(stockticker, days_ago)\n",
        "\n",
        "        return price_change_response\n",
        "\n",
        "    def _arun(self, stockticker: str, days_ago: int):\n",
        "        raise NotImplementedError(\"This tool does not support async\")\n",
        "\n",
        "    args_schema: Optional[Type[BaseModel]] = StockChangePercentageCheckInput"
      ],
      "metadata": {
        "id": "CEAJ8ACP5Cpl"
      },
      "execution_count": 64,
      "outputs": []
    },
    {
      "cell_type": "code",
      "source": [
        "from langchain_community.tools.yahoo_finance_news import YahooFinanceNewsTool"
      ],
      "metadata": {
        "id": "9Yjj2G36Iloe"
      },
      "execution_count": 65,
      "outputs": []
    },
    {
      "cell_type": "code",
      "source": [
        "tools = [CompanyStockPriceRSITrendAnalysisTool(),PercentageChangeTool(),YahooFinanceNewsTool()]"
      ],
      "metadata": {
        "id": "kr0js5ewjvEe"
      },
      "execution_count": 66,
      "outputs": []
    },
    {
      "cell_type": "code",
      "source": [
        "tools"
      ],
      "metadata": {
        "colab": {
          "base_uri": "https://localhost:8080/"
        },
        "id": "F8kQVzGxoamD",
        "outputId": "660e54de-81b9-4387-b992-a4eee45462b0"
      },
      "execution_count": 67,
      "outputs": [
        {
          "output_type": "execute_result",
          "data": {
            "text/plain": [
              "[CompanyStockPriceRSITrendAnalysisTool(),\n",
              " PercentageChangeTool(),\n",
              " YahooFinanceNewsTool()]"
            ]
          },
          "metadata": {},
          "execution_count": 67
        }
      ]
    },
    {
      "cell_type": "code",
      "source": [
        "llm = ChatOpenAI(temperature=0, model=\"gpt-3.5-turbo-0613\")"
      ],
      "metadata": {
        "id": "C2ptn9PEoiGZ"
      },
      "execution_count": 68,
      "outputs": []
    },
    {
      "cell_type": "code",
      "source": [
        "open_ai_agent = initialize_agent(tools,\n",
        "                        llm,\n",
        "                        agent=AgentType.OPENAI_FUNCTIONS,\n",
        "                        verbose=True)\n"
      ],
      "metadata": {
        "id": "t0KM1rcCob7A"
      },
      "execution_count": 69,
      "outputs": []
    },
    {
      "cell_type": "code",
      "source": [
        "from langchain.agents import AgentExecutor, create_openai_functions_agent\n",
        "from langchain import hub\n",
        "\n",
        "prompt = hub.pull(\"hwchase17/openai-functions-agent\")\n",
        "\n",
        "llm = ChatOpenAI(temperature=0)\n",
        "\n",
        "agent = create_openai_functions_agent(llm, tools, prompt)"
      ],
      "metadata": {
        "id": "AokPklyZJ_dd"
      },
      "execution_count": 70,
      "outputs": []
    },
    {
      "cell_type": "code",
      "source": [
        "agent_executor = AgentExecutor(\n",
        "    agent=agent, tools=tools, verbose=True, return_intermediate_steps=True\n",
        ")"
      ],
      "metadata": {
        "id": "ouXRpijbomLT"
      },
      "execution_count": 71,
      "outputs": []
    },
    {
      "cell_type": "code",
      "source": [
        "q1= \"Should I invest in Nvidia\""
      ],
      "metadata": {
        "id": "LzCeY1T-Jz9H"
      },
      "execution_count": 98,
      "outputs": []
    },
    {
      "cell_type": "code",
      "source": [
        "Q = f\"You are a stock analysis assistant that is able to answer all finance and stocks related questions. Based on the computed data, you decided where or not the outcome is positive or negative in terms of earnings in the future. Be sure to remind the user that all financial suggestions are only suggestions. Query = {q1}\""
      ],
      "metadata": {
        "id": "Bsrf7rtkJ4Yo"
      },
      "execution_count": 99,
      "outputs": []
    },
    {
      "cell_type": "code",
      "source": [
        "dic = agent_executor.invoke({\"input\": Q})\n",
        "dic.get('output')"
      ],
      "metadata": {
        "colab": {
          "base_uri": "https://localhost:8080/",
          "height": 541
        },
        "id": "c8IbK31CXZjS",
        "outputId": "9edf3995-00e1-4d6d-cb00-0f3ff9edae5d"
      },
      "execution_count": 100,
      "outputs": [
        {
          "output_type": "stream",
          "name": "stdout",
          "text": [
            "\n",
            "\n",
            "\u001b[1m> Entering new AgentExecutor chain...\u001b[0m\n"
          ]
        },
        {
          "output_type": "stream",
          "name": "stderr",
          "text": [
            "\r[*********************100%%**********************]  1 of 1 completed"
          ]
        },
        {
          "output_type": "stream",
          "name": "stdout",
          "text": [
            "\u001b[32;1m\u001b[1;3m\n",
            "Invoking: `get_stock_ticker_price` with `{'stockticker': 'NVDA'}`\n",
            "\n",
            "\n",
            "\u001b[0m"
          ]
        },
        {
          "output_type": "stream",
          "name": "stderr",
          "text": [
            "\n",
            "[*********************100%%**********************]  1 of 1 completed\n",
            "[*********************100%%**********************]  1 of 1 completed\n",
            "[*********************100%%**********************]  1 of 1 completed\n",
            "[*********************100%%**********************]  1 of 1 completed\n"
          ]
        },
        {
          "output_type": "stream",
          "name": "stdout",
          "text": [
            "0.8441407559812109 1.0 0.40098220585394617 0.8179353524567226\n",
            "\u001b[36;1m\u001b[1;3mPrice is 687.95. \n",
            "Closing Value is greater than SMA, It may indicate a uptrend. Closing Value : 700.989990234375 , SMA : 610.0294952392578. \n",
            "Closing Value is greater than EMA, It may indicate a uptrend. Closing Value : 700.989990234375 , EMA : 615.6889554389732. \n",
            "Closing Value is greater than WMA, It may indicate a uptrend. Closing Value : 700.989990234375 , WMA : 634.5711867559523. \n",
            ".\n",
            "Security may be overbought and could potentially drop RSI : 84.41407559812109. .\n",
            "Probability of future earnings: 0.7657645785729699. \u001b[0m\u001b[32;1m\u001b[1;3mBased on the analysis of Nvidia (NVDA) stock, the current price is $687.95. The closing value is greater than the Simple Moving Average (SMA), Exponential Moving Average (EMA), and Weighted Moving Average (WMA), indicating a potential uptrend. However, the Relative Strength Index (RSI) is high at 84.41, suggesting that the security may be overbought and could potentially drop.\n",
            "\n",
            "The probability of future earnings is estimated to be 76.58%. Please note that all financial suggestions are only suggestions. It is recommended to conduct further research and consider your investment goals and risk tolerance before making any investment decisions.\u001b[0m\n",
            "\n",
            "\u001b[1m> Finished chain.\u001b[0m\n"
          ]
        },
        {
          "output_type": "execute_result",
          "data": {
            "text/plain": [
              "'Based on the analysis of Nvidia (NVDA) stock, the current price is $687.95. The closing value is greater than the Simple Moving Average (SMA), Exponential Moving Average (EMA), and Weighted Moving Average (WMA), indicating a potential uptrend. However, the Relative Strength Index (RSI) is high at 84.41, suggesting that the security may be overbought and could potentially drop.\\n\\nThe probability of future earnings is estimated to be 76.58%. Please note that all financial suggestions are only suggestions. It is recommended to conduct further research and consider your investment goals and risk tolerance before making any investment decisions.'"
            ],
            "application/vnd.google.colaboratory.intrinsic+json": {
              "type": "string"
            }
          },
          "metadata": {},
          "execution_count": 100
        }
      ]
    },
    {
      "cell_type": "code",
      "source": [
        "q2= \"Amazon\""
      ],
      "metadata": {
        "id": "2lYeBRduODWP"
      },
      "execution_count": 101,
      "outputs": []
    },
    {
      "cell_type": "code",
      "source": [
        "Q = f\"You are a stock analysis assistant that is able to answer all finance and stocks related questions. Based on the computed data, you decided where or not the outcome is positive or negative in terms of earnings in the future. Be sure to remind the user that all financial suggestions are only suggestions. Query = {q2}\""
      ],
      "metadata": {
        "id": "KivusiIqOKrj"
      },
      "execution_count": 102,
      "outputs": []
    },
    {
      "cell_type": "code",
      "source": [
        "dic = agent_executor.invoke({\"input\": Q})\n",
        "print(dic.get('output'))"
      ],
      "metadata": {
        "id": "YYe-VS6FiuBw",
        "colab": {
          "base_uri": "https://localhost:8080/"
        },
        "outputId": "97a5320b-7e1a-4017-d1de-2266de581fe5"
      },
      "execution_count": 103,
      "outputs": [
        {
          "output_type": "stream",
          "name": "stdout",
          "text": [
            "\n",
            "\n",
            "\u001b[1m> Entering new AgentExecutor chain...\u001b[0m\n",
            "\u001b[32;1m\u001b[1;3m\n",
            "Invoking: `yahoo_finance_news` with `AMZN`\n",
            "\n",
            "\n",
            "\u001b[0m\u001b[38;5;200m\u001b[1;3mCisco's Expanded Partnership With Nvidia Overshadowed By The \"Price\" It Has To Pay For Its AI And Cybersecurity Shift\n",
            "Cisco Systems Inc (NASDAQ: CSCO) joined Alphabet (NASDAQ: GOOG), Amazon.com Inc (NASDAQ: AMZN),Microsoft Corporation (NASDAQ: MSFT) in entering 2024 with job cuts as it announced it will be decreasing its workforce by 5% which implies eliminating about 4,250 jobs. Although Cisco reported it expanded its AI deployment and management partnership with Nvidia Corporation (NASDAQ: NVDA) earlier in February, its good news were dimmed by a light forecast, both for the current quarter and the full year.\n",
            "\n",
            "Are Retail-Wholesale Stocks Lagging Amazon.com (AMZN) This Year?\n",
            "Here is how Amazon (AMZN) and Abercrombie & Fitch (ANF) have performed compared to their sector so far this year.\n",
            "\n",
            "Amazon.com, Inc. (AMZN) is Attracting Investor Attention: Here is What You Should Know\n",
            "Amazon (AMZN) has been one of the stocks most watched by Zacks.com users lately. So, it is worth exploring what lies ahead for the stock.\u001b[0m\u001b[32;1m\u001b[1;3mBased on the recent news about Amazon (AMZN), it seems that the company is attracting investor attention and is one of the stocks most watched by users. However, it's important to note that there have been job cuts at Cisco, which may have implications for the tech industry as a whole. The overall sentiment towards Amazon appears positive, but as with any investment decision, it's essential to conduct thorough research and consider all factors before making any financial decisions.\u001b[0m\n",
            "\n",
            "\u001b[1m> Finished chain.\u001b[0m\n",
            "Based on the recent news about Amazon (AMZN), it seems that the company is attracting investor attention and is one of the stocks most watched by users. However, it's important to note that there have been job cuts at Cisco, which may have implications for the tech industry as a whole. The overall sentiment towards Amazon appears positive, but as with any investment decision, it's essential to conduct thorough research and consider all factors before making any financial decisions.\n"
          ]
        }
      ]
    },
    {
      "cell_type": "code",
      "source": [
        "q3= \"GOOGL\""
      ],
      "metadata": {
        "id": "vD61SxnfOyoq"
      },
      "execution_count": 104,
      "outputs": []
    },
    {
      "cell_type": "code",
      "source": [
        "Q = f\"You are a stock analysis assistant that is able to answer all finance and stocks related questions. Based on the computed data, you decided where or not the outcome is positive or negative in terms of earnings in the future. Be sure to remind the user that all financial suggestions are only suggestions. Query = {q3}\""
      ],
      "metadata": {
        "id": "bP53SKW5O16t"
      },
      "execution_count": 105,
      "outputs": []
    },
    {
      "cell_type": "code",
      "source": [
        "dic = agent_executor.invoke({\"input\": Q})\n",
        "print(dic.get('output'))"
      ],
      "metadata": {
        "id": "McjrXHOiCFa5",
        "colab": {
          "base_uri": "https://localhost:8080/"
        },
        "outputId": "3ac80ba2-660d-4e8a-b8a2-6ce9dd0e194c"
      },
      "execution_count": 106,
      "outputs": [
        {
          "output_type": "stream",
          "name": "stdout",
          "text": [
            "\n",
            "\n",
            "\u001b[1m> Entering new AgentExecutor chain...\u001b[0m\n"
          ]
        },
        {
          "output_type": "stream",
          "name": "stderr",
          "text": [
            "\r[*********************100%%**********************]  1 of 1 completed"
          ]
        },
        {
          "output_type": "stream",
          "name": "stdout",
          "text": [
            "\u001b[32;1m\u001b[1;3m\n",
            "Invoking: `get_stock_ticker_price` with `{'stockticker': 'GOOGL'}`\n",
            "\n",
            "\n",
            "\u001b[0m"
          ]
        },
        {
          "output_type": "stream",
          "name": "stderr",
          "text": [
            "\n",
            "[*********************100%%**********************]  1 of 1 completed\n",
            "[*********************100%%**********************]  1 of 1 completed\n",
            "[*********************100%%**********************]  1 of 1 completed\n",
            "[*********************100%%**********************]  1 of 1 completed\n"
          ]
        },
        {
          "output_type": "stream",
          "name": "stdout",
          "text": [
            "0.534726895209168 1.0 0.21837812611001206 -1.686334373105226\n",
            "\u001b[36;1m\u001b[1;3mPrice is 141.67. \n",
            "Closing Value is greater than SMA, It may indicate a uptrend. Closing Value : 145.5399932861328 , SMA : 145.4275001525879. \n",
            "Closing Value is greater than EMA, It may indicate a uptrend. Closing Value : 145.5399932861328 , EMA : 144.44663953040558. \n",
            "Closing Value is greater than WMA, It may indicate a uptrend. Closing Value : 145.5399932861328 , WMA : 145.82809549967448. \n",
            ".\n",
            "It falls in between the range security is neither significantly overbought nor oversold RSI : 53.4726895209168. .\n",
            "Probability of future earnings: 0.01669266205348857. \u001b[0m\u001b[32;1m\u001b[1;3mBased on the analysis of the stock ticker GOOGL, the current price is $141.67. The closing value is greater than the Simple Moving Average (SMA), Exponential Moving Average (EMA), and Weighted Moving Average (WMA), indicating a potential uptrend.\n",
            "\n",
            "The Relative Strength Index (RSI) is 53.47, suggesting that the security is neither significantly overbought nor oversold.\n",
            "\n",
            "The probability of future earnings is 0.0167, indicating a positive outlook for potential earnings in the future. However, please remember that all financial suggestions are only suggestions and not guarantees.\u001b[0m\n",
            "\n",
            "\u001b[1m> Finished chain.\u001b[0m\n",
            "Based on the analysis of the stock ticker GOOGL, the current price is $141.67. The closing value is greater than the Simple Moving Average (SMA), Exponential Moving Average (EMA), and Weighted Moving Average (WMA), indicating a potential uptrend.\n",
            "\n",
            "The Relative Strength Index (RSI) is 53.47, suggesting that the security is neither significantly overbought nor oversold.\n",
            "\n",
            "The probability of future earnings is 0.0167, indicating a positive outlook for potential earnings in the future. However, please remember that all financial suggestions are only suggestions and not guarantees.\n"
          ]
        }
      ]
    }
  ]
}
